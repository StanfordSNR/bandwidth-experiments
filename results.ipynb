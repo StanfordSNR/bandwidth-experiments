{
 "cells": [
  {
   "cell_type": "code",
   "execution_count": null,
   "id": "5e8c6bd3-25e9-432c-b1ca-6a4d86e65f49",
   "metadata": {},
   "outputs": [],
   "source": [
    "import os\n",
    "import sys\n",
    "import pandas as pd\n",
    "import numpy as np\n",
    "import matplotlib.pyplot as plt\n",
    "\n",
    "from matplotlib.ticker import EngFormatter"
   ]
  },
  {
   "cell_type": "code",
   "execution_count": null,
   "id": "3c092601-10ac-4bc3-a290-5de52c6b14ac",
   "metadata": {},
   "outputs": [],
   "source": [
    "plt.rcParams['figure.figsize'] = [8, 8]\n",
    "plt.rcParams['axes.facecolor'] = 'white'\n",
    "plt.rcParams['savefig.facecolor'] = 'white'"
   ]
  },
  {
   "cell_type": "code",
   "execution_count": null,
   "id": "624882a6-c025-45b8-9cdd-f841c742f8a2",
   "metadata": {},
   "outputs": [],
   "source": [
    "def get_topology(path):\n",
    "    if 'a2a' in path:\n",
    "        return \"All-to-all\"\n",
    "    elif 'group5' in path:\n",
    "        return \"Groups of 5\"\n",
    "\n",
    "def read_data(csv_path):\n",
    "    data = pd.read_csv(csv_path)\n",
    "    \n",
    "    metadata = {\n",
    "        'duration': np.max(data.time),\n",
    "        'worker_count': len(np.unique(data.worker)),\n",
    "        'topology': get_topology(csv_path)\n",
    "    }\n",
    "    \n",
    "    return data, metadata"
   ]
  },
  {
   "cell_type": "code",
   "execution_count": null,
   "id": "a4a96489-fc58-4bc4-b060-7baba6ba5257",
   "metadata": {},
   "outputs": [],
   "source": [
    "def plot_aggregate(data, metadata):\n",
    "    d = data.groupby(['worker', 'time']).sum().diff().fillna(0).reset_index()\n",
    "    \n",
    "    # average throughput for [T/2, T]\n",
    "    x = d[(d.time <= metadata['duration']) & (d.time >= metadata['duration'] / 2)]\n",
    "    x = x.groupby('worker').mean()\n",
    "\n",
    "    plt.scatter(8 * x.bytes_sent, 8 * x.bytes_received)\n",
    "    plt.xlabel(\"Send Rate (bps)\")\n",
    "    plt.ylabel(\"Receive Rate (bps)\")\n",
    "    plt.title(f\"Average throughput for {metadata['worker_count']} workers ({metadata['topology']})\")\n",
    "    plt.gca().xaxis.set_major_formatter(EngFormatter(unit=''))\n",
    "    plt.gca().yaxis.set_major_formatter(EngFormatter(unit=''))"
   ]
  },
  {
   "cell_type": "code",
   "execution_count": null,
   "id": "ab6590b8-32b6-42c9-89eb-a92d150522c0",
   "metadata": {},
   "outputs": [],
   "source": [
    "data, metadata = read_data(\"./results/lambda-a2a-w160-30s.csv\")\n",
    "plot_aggregate(data, metadata)"
   ]
  },
  {
   "cell_type": "code",
   "execution_count": null,
   "id": "278ef0f5-1b0a-4c7c-866e-1cb6696d6d0c",
   "metadata": {},
   "outputs": [],
   "source": [
    "data, metadata = read_data(\"./results/lambda-group5-w160-30s.csv\")\n",
    "plot_aggregate(data, metadata)"
   ]
  }
 ],
 "metadata": {
  "kernelspec": {
   "display_name": "Python 3",
   "language": "python",
   "name": "python3"
  },
  "language_info": {
   "codemirror_mode": {
    "name": "ipython",
    "version": 3
   },
   "file_extension": ".py",
   "mimetype": "text/x-python",
   "name": "python",
   "nbconvert_exporter": "python",
   "pygments_lexer": "ipython3",
   "version": "3.9.7"
  }
 },
 "nbformat": 4,
 "nbformat_minor": 5
}
